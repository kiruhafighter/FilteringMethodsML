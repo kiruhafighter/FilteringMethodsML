{
 "cells": [
  {
   "metadata": {
    "ExecuteTime": {
     "end_time": "2024-12-13T17:15:35.017564Z",
     "start_time": "2024-12-13T17:15:35.013299Z"
    }
   },
   "cell_type": "code",
   "source": [
    "import csv\n",
    "import random\n",
    "import math\n",
    "from collections import Counter, defaultdict\n",
    "import itertools"
   ],
   "id": "fbc121e30a2defb3",
   "outputs": [],
   "execution_count": 2
  },
  {
   "metadata": {
    "ExecuteTime": {
     "end_time": "2024-12-13T17:15:35.566931Z",
     "start_time": "2024-12-13T17:15:35.536897Z"
    }
   },
   "cell_type": "code",
   "source": [
    "filename = 'D:/University/Data Analysis & Machine Learning 4 course/data_lab2,3/mushroom/agaricus-lepiota.data'\n",
    "\n",
    "# Load data\n",
    "data = []\n",
    "with open(filename, 'r') as f:\n",
    "    reader = csv.reader(f)\n",
    "    for row in reader:\n",
    "        if len(row) == 0:\n",
    "            continue\n",
    "        data.append(row)"
   ],
   "id": "b505be2a747878f8",
   "outputs": [],
   "execution_count": 3
  },
  {
   "metadata": {
    "ExecuteTime": {
     "end_time": "2024-12-13T17:15:36.197134Z",
     "start_time": "2024-12-13T17:15:36.191636Z"
    }
   },
   "cell_type": "code",
   "source": [
    "print(\"Number of instances loaded:\", len(data))\n",
    "print(\"Example rows:\")\n",
    "for i in range(5):\n",
    "    print(data[i])"
   ],
   "id": "d15be94209ced196",
   "outputs": [
    {
     "name": "stdout",
     "output_type": "stream",
     "text": [
      "Number of instances loaded: 8124\n",
      "Example rows:\n",
      "['p', 'x', 's', 'n', 't', 'p', 'f', 'c', 'n', 'k', 'e', 'e', 's', 's', 'w', 'w', 'p', 'w', 'o', 'p', 'k', 's', 'u']\n",
      "['e', 'x', 's', 'y', 't', 'a', 'f', 'c', 'b', 'k', 'e', 'c', 's', 's', 'w', 'w', 'p', 'w', 'o', 'p', 'n', 'n', 'g']\n",
      "['e', 'b', 's', 'w', 't', 'l', 'f', 'c', 'b', 'n', 'e', 'c', 's', 's', 'w', 'w', 'p', 'w', 'o', 'p', 'n', 'n', 'm']\n",
      "['p', 'x', 'y', 'w', 't', 'p', 'f', 'c', 'n', 'n', 'e', 'e', 's', 's', 'w', 'w', 'p', 'w', 'o', 'p', 'k', 's', 'u']\n",
      "['e', 'x', 's', 'g', 'f', 'n', 'f', 'w', 'b', 'k', 't', 'e', 's', 's', 'w', 'w', 'p', 'w', 'o', 'e', 'n', 'a', 'g']\n"
     ]
    }
   ],
   "execution_count": 4
  },
  {
   "metadata": {
    "ExecuteTime": {
     "end_time": "2024-12-13T17:15:36.715845Z",
     "start_time": "2024-12-13T17:15:36.706943Z"
    }
   },
   "cell_type": "code",
   "source": "data = [row for row in data if '?' not in row]",
   "id": "dbaa5dcf516fa28f",
   "outputs": [],
   "execution_count": 5
  },
  {
   "metadata": {
    "ExecuteTime": {
     "end_time": "2024-12-13T17:15:37.210756Z",
     "start_time": "2024-12-13T17:15:37.203739Z"
    }
   },
   "cell_type": "code",
   "source": [
    "classes = [row[0] for row in data]\n",
    "features = [row[1:] for row in data]"
   ],
   "id": "4a5418d4b6f4954e",
   "outputs": [],
   "execution_count": 6
  },
  {
   "metadata": {
    "ExecuteTime": {
     "end_time": "2024-12-13T17:15:37.741054Z",
     "start_time": "2024-12-13T17:15:37.736733Z"
    }
   },
   "cell_type": "code",
   "source": [
    "class_map = {'e':0, 'p':1}\n",
    "y = [class_map[c] for c in classes]"
   ],
   "id": "a57033bcc64fe425",
   "outputs": [],
   "execution_count": 7
  },
  {
   "metadata": {
    "ExecuteTime": {
     "end_time": "2024-12-13T17:15:38.203112Z",
     "start_time": "2024-12-13T17:15:38.191585Z"
    }
   },
   "cell_type": "code",
   "source": [
    "unique_values_per_feature = []\n",
    "for col_idx in range(len(features[0])):\n",
    "    unique_vals = sorted(list(set([row[col_idx] for row in features])))\n",
    "    unique_values_per_feature.append(unique_vals)"
   ],
   "id": "9de2ecec76c63880",
   "outputs": [],
   "execution_count": 8
  },
  {
   "metadata": {
    "ExecuteTime": {
     "end_time": "2024-12-13T17:15:38.620884Z",
     "start_time": "2024-12-13T17:15:38.615692Z"
    }
   },
   "cell_type": "code",
   "source": [
    "for i, values in enumerate(unique_values_per_feature):\n",
    "    print(f\"Feature {i}: {values}\")"
   ],
   "id": "6feb167502c214ec",
   "outputs": [
    {
     "name": "stdout",
     "output_type": "stream",
     "text": [
      "Feature 0: ['b', 'c', 'f', 'k', 's', 'x']\n",
      "Feature 1: ['f', 'g', 's', 'y']\n",
      "Feature 2: ['b', 'c', 'e', 'g', 'n', 'p', 'w', 'y']\n",
      "Feature 3: ['f', 't']\n",
      "Feature 4: ['a', 'c', 'f', 'l', 'm', 'n', 'p']\n",
      "Feature 5: ['a', 'f']\n",
      "Feature 6: ['c', 'w']\n",
      "Feature 7: ['b', 'n']\n",
      "Feature 8: ['g', 'h', 'k', 'n', 'p', 'r', 'u', 'w', 'y']\n",
      "Feature 9: ['e', 't']\n",
      "Feature 10: ['b', 'c', 'e', 'r']\n",
      "Feature 11: ['f', 'k', 's', 'y']\n",
      "Feature 12: ['f', 'k', 's', 'y']\n",
      "Feature 13: ['b', 'c', 'g', 'n', 'p', 'w', 'y']\n",
      "Feature 14: ['b', 'c', 'g', 'n', 'p', 'w', 'y']\n",
      "Feature 15: ['p']\n",
      "Feature 16: ['w', 'y']\n",
      "Feature 17: ['n', 'o', 't']\n",
      "Feature 18: ['e', 'l', 'n', 'p']\n",
      "Feature 19: ['h', 'k', 'n', 'r', 'u', 'w']\n",
      "Feature 20: ['a', 'c', 'n', 's', 'v', 'y']\n",
      "Feature 21: ['d', 'g', 'l', 'm', 'p', 'u']\n"
     ]
    }
   ],
   "execution_count": 9
  },
  {
   "metadata": {
    "ExecuteTime": {
     "end_time": "2024-12-13T17:15:39.441283Z",
     "start_time": "2024-12-13T17:15:39.395160Z"
    }
   },
   "cell_type": "code",
   "source": [
    "X = []\n",
    "for row in features:\n",
    "    encoded = []\n",
    "    for col_idx, val in enumerate(row):\n",
    "        val_index = unique_values_per_feature[col_idx].index(val)\n",
    "        encoded.append(val_index)\n",
    "    X.append(encoded)\n",
    "     \n",
    "X = [list(r) for r in X]"
   ],
   "id": "34d7b8eddcc383ed",
   "outputs": [],
   "execution_count": 10
  },
  {
   "metadata": {
    "ExecuteTime": {
     "end_time": "2024-12-13T17:15:39.939566Z",
     "start_time": "2024-12-13T17:15:39.930261Z"
    }
   },
   "cell_type": "code",
   "source": [
    "random.seed(42)\n",
    "indices = list(range(len(X)))\n",
    "random.shuffle(indices)\n",
    "split_point = int(0.8 * len(X))\n",
    "\n",
    "train_idx = indices[:split_point]\n",
    "val_idx = indices[split_point:]\n",
    "\n",
    "X_train = [X[i] for i in train_idx]\n",
    "y_train = [y[i] for i in train_idx]\n",
    "X_val = [X[i] for i in val_idx]\n",
    "y_val = [y[i] for i in val_idx]"
   ],
   "id": "c04020d6134679f3",
   "outputs": [],
   "execution_count": 11
  },
  {
   "metadata": {
    "ExecuteTime": {
     "end_time": "2024-12-13T17:15:40.626348Z",
     "start_time": "2024-12-13T17:15:40.618354Z"
    }
   },
   "cell_type": "code",
   "source": [
    "def chi_square_feature(X, y, feature_index):\n",
    "    # Extract the column\n",
    "    col = [x[feature_index] for x in X]\n",
    "    # Possible values for this feature\n",
    "    vals = set(col)\n",
    "    # Classes\n",
    "    cls = set(y)\n",
    "\n",
    "    # Create contingency table\n",
    "    # counts[val][class] = count\n",
    "    counts = defaultdict(lambda: defaultdict(int))\n",
    "    val_counts = defaultdict(int)\n",
    "    cls_counts = defaultdict(int)\n",
    "\n",
    "    for val_i, c in zip(col, y):\n",
    "        counts[val_i][c] += 1\n",
    "        val_counts[val_i] += 1\n",
    "        cls_counts[c] += 1\n",
    "\n",
    "    total = len(X)\n",
    "\n",
    "    # Compute chi-square\n",
    "    chi2 = 0.0\n",
    "    for v in val_counts:\n",
    "        for c in cls_counts:\n",
    "            observed = counts[v][c]\n",
    "            expected = (val_counts[v] * cls_counts[c]) / total\n",
    "            if expected > 0:\n",
    "                chi2 += (observed - expected)**2 / expected\n",
    "\n",
    "    return chi2"
   ],
   "id": "d9124ae205b873ce",
   "outputs": [],
   "execution_count": 12
  },
  {
   "metadata": {
    "ExecuteTime": {
     "end_time": "2024-12-13T17:15:41.336067Z",
     "start_time": "2024-12-13T17:15:41.275944Z"
    }
   },
   "cell_type": "code",
   "source": [
    "chi2_scores = []\n",
    "for f_idx in range(len(X_train[0])):\n",
    "    score = chi_square_feature(X_train, y_train, f_idx)\n",
    "    chi2_scores.append((f_idx, score))\n",
    "\n",
    "# Sort features by chi2 score descending\n",
    "chi2_scores.sort(key=lambda x: x[1], reverse=True)"
   ],
   "id": "705f8a42774ebe65",
   "outputs": [],
   "execution_count": 13
  },
  {
   "metadata": {
    "ExecuteTime": {
     "end_time": "2024-12-13T17:15:42.074262Z",
     "start_time": "2024-12-13T17:15:42.068752Z"
    }
   },
   "cell_type": "code",
   "source": [
    "print(\"Top 10 features by Chi-Squared score:\")\n",
    "for f_idx, score in chi2_scores[:10]:\n",
    "    print(f\"Feature {f_idx}: {score}\")"
   ],
   "id": "71cccf86ef1ccfc5",
   "outputs": [
    {
     "name": "stdout",
     "output_type": "stream",
     "text": [
      "Top 10 features by Chi-Squared score:\n",
      "Feature 4: 4216.231587517972\n",
      "Feature 19: 3066.755544614285\n",
      "Feature 18: 2368.9379968954386\n",
      "Feature 11: 2273.2428804854344\n",
      "Feature 12: 2177.760791727101\n",
      "Feature 13: 1571.7964100729591\n",
      "Feature 9: 1562.7992228158053\n",
      "Feature 14: 1461.0214147272734\n",
      "Feature 8: 1224.2251270707259\n",
      "Feature 2: 1027.012391729265\n"
     ]
    }
   ],
   "execution_count": 14
  },
  {
   "metadata": {
    "ExecuteTime": {
     "end_time": "2024-12-13T17:15:43.048144Z",
     "start_time": "2024-12-13T17:15:43.041265Z"
    }
   },
   "cell_type": "code",
   "source": [
    "class KNN:\n",
    "    def __init__(self, k=5):\n",
    "        self.k = k\n",
    "\n",
    "    def fit(self, X, y):\n",
    "        self.X = X\n",
    "        self.y = y\n",
    "\n",
    "    def predict_one(self, x):\n",
    "        # Compute distances\n",
    "        distances = []\n",
    "        for i, x_train in enumerate(self.X):\n",
    "            # Euclidean distance\n",
    "            dist = 0\n",
    "            for a,b in zip(x_train, x):\n",
    "                dist += (a-b)**2\n",
    "            dist = math.sqrt(dist)\n",
    "            distances.append((dist, self.y[i]))\n",
    "        distances.sort(key=lambda d: d[0])\n",
    "        neighbors = [c for (_, c) in distances[:self.k]]\n",
    "        # Majority vote\n",
    "        most_common = Counter(neighbors).most_common(1)[0][0]\n",
    "        return most_common\n",
    "\n",
    "    def predict(self, X):\n",
    "        return [self.predict_one(x) for x in X]"
   ],
   "id": "3cd9217e79af64dc",
   "outputs": [],
   "execution_count": 15
  },
  {
   "metadata": {
    "ExecuteTime": {
     "end_time": "2024-12-13T17:15:43.662447Z",
     "start_time": "2024-12-13T17:15:43.657478Z"
    }
   },
   "cell_type": "code",
   "source": [
    "def accuracy(y_true, y_pred):\n",
    "    correct = sum(int(a==b) for a,b in zip(y_true, y_pred))\n",
    "    return correct / len(y_true)"
   ],
   "id": "7d7a2e8d3ba72d39",
   "outputs": [],
   "execution_count": 16
  },
  {
   "metadata": {
    "ExecuteTime": {
     "end_time": "2024-12-13T17:15:44.399882Z",
     "start_time": "2024-12-13T17:15:44.392536Z"
    }
   },
   "cell_type": "code",
   "source": [
    "def forward_selection(X_train, y_train, X_val, y_val, max_features=None):\n",
    "    available_features = set(range(len(X_train[0])))\n",
    "    selected_features = []\n",
    "    best_acc = 0.0\n",
    "    last_improvement = True\n",
    "\n",
    "    # We can stop either when no improvement or if we reached max_features\n",
    "    while last_improvement and (max_features is None or len(selected_features) < max_features):\n",
    "        last_improvement = False\n",
    "        candidate_feature = None\n",
    "\n",
    "        for f in available_features:\n",
    "            trial_features = selected_features + [f]\n",
    "            # Extract these features from training and validation\n",
    "            X_train_sub = [[x[i] for i in trial_features] for x in X_train]\n",
    "            X_val_sub = [[x[i] for i in trial_features] for x in X_val]\n",
    "\n",
    "            model = KNN(k=5)\n",
    "            model.fit(X_train_sub, y_train)\n",
    "            y_val_pred = model.predict(X_val_sub)\n",
    "            val_acc = accuracy(y_val, y_val_pred)\n",
    "            if val_acc > best_acc:\n",
    "                best_acc = val_acc\n",
    "                candidate_feature = f\n",
    "\n",
    "        if candidate_feature is not None:\n",
    "            selected_features.append(candidate_feature)\n",
    "            available_features.remove(candidate_feature)\n",
    "            last_improvement = True\n",
    "\n",
    "    return selected_features"
   ],
   "id": "7be193b99063b6ac",
   "outputs": [],
   "execution_count": 17
  },
  {
   "metadata": {
    "ExecuteTime": {
     "end_time": "2024-12-13T17:22:17.067760Z",
     "start_time": "2024-12-13T17:15:45.314570Z"
    }
   },
   "cell_type": "code",
   "source": "wrapper_selected_features = forward_selection(X_train, y_train, X_val, y_val)",
   "id": "9bd4c6768e5d9b93",
   "outputs": [],
   "execution_count": 18
  },
  {
   "metadata": {
    "ExecuteTime": {
     "end_time": "2024-12-13T17:24:19.475994Z",
     "start_time": "2024-12-13T17:24:19.470658Z"
    }
   },
   "cell_type": "code",
   "source": [
    "def evaluate_top_n_features_chi2(n):\n",
    "    top_features = [f_idx for (f_idx, _) in chi2_scores[:n]]\n",
    "    X_train_sub = [[x[i] for i in top_features] for x in X_train]\n",
    "    X_val_sub = [[x[i] for i in top_features] for x in X_val]\n",
    "\n",
    "    model = KNN(k=5)\n",
    "    model.fit(X_train_sub, y_train)\n",
    "    y_val_pred = model.predict(X_val_sub)\n",
    "    return accuracy(y_val, y_val_pred)"
   ],
   "id": "d3a09d145de379e8",
   "outputs": [],
   "execution_count": 19
  },
  {
   "metadata": {
    "ExecuteTime": {
     "end_time": "2024-12-13T17:27:37.760740Z",
     "start_time": "2024-12-13T17:24:20.127170Z"
    }
   },
   "cell_type": "code",
   "source": [
    "best_chi2_n = None\n",
    "best_chi2_acc = 0.0\n",
    "# Let's just try from 1 to all features:\n",
    "for n in range(1, len(X_train[0]) + 1):\n",
    "    val_acc = evaluate_top_n_features_chi2(n)\n",
    "    if val_acc > best_chi2_acc:\n",
    "        best_chi2_acc = val_acc\n",
    "        best_chi2_n = n\n",
    "\n",
    "chi2_selected_features = [f_idx for (f_idx, _) in chi2_scores[:best_chi2_n]]"
   ],
   "id": "7ebf88f06c9959a2",
   "outputs": [],
   "execution_count": 20
  },
  {
   "metadata": {
    "ExecuteTime": {
     "end_time": "2024-12-13T17:28:22.606266Z",
     "start_time": "2024-12-13T17:27:54.585566Z"
    }
   },
   "cell_type": "code",
   "source": [
    "model_all = KNN(k=5)\n",
    "model_all.fit(X_train, y_train)\n",
    "y_val_pred_all = model_all.predict(X_val)\n",
    "acc_all = accuracy(y_val, y_val_pred_all)\n",
    "\n",
    "# Filter method features\n",
    "X_train_chi2 = [[x[i] for i in chi2_selected_features] for x in X_train]\n",
    "X_val_chi2 = [[x[i] for i in chi2_selected_features] for x in X_val]\n",
    "model_chi2 = KNN(k=5)\n",
    "model_chi2.fit(X_train_chi2, y_train)\n",
    "y_val_pred_chi2 = model_chi2.predict(X_val_chi2)\n",
    "acc_chi2 = accuracy(y_val, y_val_pred_chi2)\n",
    "\n",
    "# Wrapper method features\n",
    "X_train_wrapper = [[x[i] for i in wrapper_selected_features] for x in X_train]\n",
    "X_val_wrapper = [[x[i] for i in wrapper_selected_features] for x in X_val]\n",
    "model_wrapper = KNN(k=5)\n",
    "model_wrapper.fit(X_train_wrapper, y_train)\n",
    "y_val_pred_wrapper = model_wrapper.predict(X_val_wrapper)\n",
    "acc_wrapper = accuracy(y_val, y_val_pred_wrapper)"
   ],
   "id": "637d78a37b5410b7",
   "outputs": [],
   "execution_count": 21
  },
  {
   "metadata": {
    "ExecuteTime": {
     "end_time": "2024-12-13T17:28:38.364088Z",
     "start_time": "2024-12-13T17:28:38.351411Z"
    }
   },
   "cell_type": "code",
   "source": [
    "# After determining the subsets of features\n",
    "print(\"Number of features selected by filter method:\", best_chi2_n)\n",
    "print(\"Number of features selected by wrapper method:\", len(wrapper_selected_features))\n",
    "\n",
    "# Check a sample of the training data with Chi2 selected features\n",
    "X_train_chi2_sample = X_train_chi2[:5]\n",
    "X_val_chi2_sample = X_val_chi2[:5]\n",
    "print(\"Sample of training data (chi2 selected features, first 5 rows):\")\n",
    "for row in X_train_chi2_sample:\n",
    "    print(row)\n",
    "\n",
    "print(\"Sample of validation data (chi2 selected features, first 5 rows):\")\n",
    "for row in X_val_chi2_sample:\n",
    "    print(row)\n",
    "\n",
    "# Similarly for wrapper selected features\n",
    "X_train_wrapper_sample = X_train_wrapper[:5]\n",
    "X_val_wrapper_sample = X_val_wrapper[:5]\n",
    "print(\"Sample of training data (wrapper selected features, first 5 rows):\")\n",
    "for row in X_train_wrapper_sample:\n",
    "    print(row)\n",
    "\n",
    "print(\"Sample of validation data (wrapper selected features, first 5 rows):\")\n",
    "for row in X_val_wrapper_sample:\n",
    "    print(row)\n",
    "\n",
    "# After you get predictions, print a few predictions vs. actual labels\n",
    "print(\"Checking a few predictions vs. actual labels for chi2 selected features:\")\n",
    "for i in range(5):\n",
    "    print(f\"Validation sample {i}: True label = {y_val[i]}, Predicted label = {y_val_pred_chi2[i]}\")\n",
    "\n",
    "print(\"Checking a few predictions vs. actual labels for wrapper selected features:\")\n",
    "for i in range(5):\n",
    "    print(f\"Validation sample {i}: True label = {y_val[i]}, Predicted label = {y_val_pred_wrapper[i]}\")\n",
    "\n",
    "# Check correct predictions count for chi2 selected features\n",
    "correct_predictions_chi2 = sum(1 for yt, yp in zip(y_val, y_val_pred_chi2) if yt == yp)\n",
    "print(f\"Chi2 correct predictions: {correct_predictions_chi2} out of {len(y_val)}, accuracy: {acc_chi2}\")\n",
    "\n",
    "# Check correct predictions count for wrapper selected features\n",
    "correct_predictions_wrapper = sum(1 for yt, yp in zip(y_val, y_val_pred_wrapper) if yt == yp)\n",
    "print(f\"Wrapper correct predictions: {correct_predictions_wrapper} out of {len(y_val)}, accuracy: {acc_wrapper}\")\n",
    "\n",
    "# Check a single instance before and after feature selection\n",
    "sample_index = 0\n",
    "print(\"Original features for sample 0:\", X_train[sample_index])\n",
    "print(\"Label:\", y_train[sample_index])\n",
    "print(\"Reduced features (chi2):\", [X_train[sample_index][i] for i in chi2_selected_features])\n",
    "print(\"Reduced features (wrapper):\", [X_train[sample_index][i] for i in wrapper_selected_features])\n",
    "\n",
    "\n",
    "# Finally, print all accuracies again for clarity\n",
    "print(\"Validation Accuracy (All features):\", acc_all)\n",
    "print(\"Validation Accuracy (Filter method):\", acc_chi2)\n",
    "print(\"Validation Accuracy (Wrapper method):\", acc_wrapper)"
   ],
   "id": "4c3c98073c435ed7",
   "outputs": [
    {
     "name": "stdout",
     "output_type": "stream",
     "text": [
      "Number of features selected by filter method: 10\n",
      "Number of features selected by wrapper method: 3\n",
      "Sample of training data (chi2 selected features, first 5 rows):\n",
      "[5, 1, 3, 2, 2, 4, 1, 4, 7, 4]\n",
      "[2, 0, 3, 0, 2, 5, 1, 5, 1, 0]\n",
      "[2, 0, 1, 1, 1, 0, 0, 3, 4, 3]\n",
      "[1, 2, 3, 2, 2, 5, 0, 5, 6, 3]\n",
      "[6, 2, 3, 2, 2, 5, 0, 5, 2, 6]\n",
      "Sample of validation data (chi2 selected features, first 5 rows):\n",
      "[0, 1, 3, 2, 2, 5, 0, 5, 7, 6]\n",
      "[6, 2, 3, 2, 2, 5, 0, 5, 3, 4]\n",
      "[5, 1, 0, 0, 2, 5, 1, 5, 4, 6]\n",
      "[5, 2, 0, 2, 2, 5, 1, 5, 4, 6]\n",
      "[2, 0, 3, 0, 0, 5, 1, 5, 1, 0]\n",
      "Sample of training data (wrapper selected features, first 5 rows):\n",
      "[5, 1, 4]\n",
      "[2, 0, 0]\n",
      "[2, 0, 3]\n",
      "[1, 2, 3]\n",
      "[6, 2, 6]\n",
      "Sample of validation data (wrapper selected features, first 5 rows):\n",
      "[0, 1, 6]\n",
      "[6, 2, 4]\n",
      "[5, 1, 6]\n",
      "[5, 2, 6]\n",
      "[2, 0, 0]\n",
      "Checking a few predictions vs. actual labels for chi2 selected features:\n",
      "Validation sample 0: True label = 0, Predicted label = 0\n",
      "Validation sample 1: True label = 1, Predicted label = 1\n",
      "Validation sample 2: True label = 0, Predicted label = 0\n",
      "Validation sample 3: True label = 0, Predicted label = 0\n",
      "Validation sample 4: True label = 1, Predicted label = 1\n",
      "Checking a few predictions vs. actual labels for wrapper selected features:\n",
      "Validation sample 0: True label = 0, Predicted label = 0\n",
      "Validation sample 1: True label = 1, Predicted label = 1\n",
      "Validation sample 2: True label = 0, Predicted label = 0\n",
      "Validation sample 3: True label = 0, Predicted label = 0\n",
      "Validation sample 4: True label = 1, Predicted label = 1\n",
      "Chi2 correct predictions: 1129 out of 1129, accuracy: 1.0\n",
      "Wrapper correct predictions: 1129 out of 1129, accuracy: 1.0\n",
      "Original features for sample 0: [5, 0, 4, 1, 5, 1, 0, 0, 7, 1, 0, 2, 2, 4, 4, 0, 0, 1, 3, 1, 5, 0]\n",
      "Label: 0\n",
      "Reduced features (chi2): [5, 1, 3, 2, 2, 4, 1, 4, 7, 4]\n",
      "Reduced features (wrapper): [5, 1, 4]\n",
      "Validation Accuracy (All features): 1.0\n",
      "Validation Accuracy (Filter method): 1.0\n",
      "Validation Accuracy (Wrapper method): 1.0\n"
     ]
    }
   ],
   "execution_count": 22
  },
  {
   "metadata": {
    "ExecuteTime": {
     "end_time": "2024-12-13T00:20:23.082339Z",
     "start_time": "2024-12-13T00:20:23.067365Z"
    }
   },
   "cell_type": "code",
   "source": [
    "print(\"Number of features selected by filter method:\", best_chi2_n)\n",
    "print(\"Number of features selected by wrapper method:\", len(wrapper_selected_features))\n",
    "\n",
    "print(\"Validation Accuracy (All features):\", acc_all)\n",
    "print(\"Validation Accuracy (Filter method):\", acc_chi2)\n",
    "print(\"Validation Accuracy (Wrapper method):\", acc_wrapper)"
   ],
   "id": "7a2efe9732b65346",
   "outputs": [
    {
     "name": "stdout",
     "output_type": "stream",
     "text": [
      "Number of features selected by filter method: 10\n",
      "Number of features selected by wrapper method: 3\n",
      "Validation Accuracy (All features): 1.0\n",
      "Validation Accuracy (Filter method): 1.0\n",
      "Validation Accuracy (Wrapper method): 1.0\n"
     ]
    }
   ],
   "execution_count": 23
  },
  {
   "metadata": {},
   "cell_type": "code",
   "outputs": [],
   "execution_count": null,
   "source": "",
   "id": "7b9667f14cbd615c"
  }
 ],
 "metadata": {
  "kernelspec": {
   "display_name": "Python 3",
   "language": "python",
   "name": "python3"
  },
  "language_info": {
   "codemirror_mode": {
    "name": "ipython",
    "version": 2
   },
   "file_extension": ".py",
   "mimetype": "text/x-python",
   "name": "python",
   "nbconvert_exporter": "python",
   "pygments_lexer": "ipython2",
   "version": "2.7.6"
  }
 },
 "nbformat": 4,
 "nbformat_minor": 5
}
